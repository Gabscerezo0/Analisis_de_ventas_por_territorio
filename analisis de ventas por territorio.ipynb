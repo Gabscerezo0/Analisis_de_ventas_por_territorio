{
 "cells": [
  {
   "cell_type": "markdown",
   "metadata": {},
   "source": [
    "\n",
    "# Análisis de Ventas por Territorio\n",
    "\n",
    "**1. Introducción**\n",
    "\n",
    "Este proyecto tiene como meta examinar el rendimiento de ventas en diferentes territorios utilizando la base de datos *AdventureWorks2017*. Para lograrlo, se han utilizado herramientas como *SQL* para extraer los datos y *Python* para llevar a cabo el análisis y la visualización. Se emplearon bibliotecas como *sqlalchemy, pandas, matplotlib, seaborn y numpy* para realizar un análisis exhaustivo de las ventas por territorio.\n",
    "\n",
    "**2. Objetivo del análisis**\n",
    "\n",
    "Este análisis tiene como objetivo descubrir patrones y tendencias en las ventas en diferentes territorios, además de evaluar por qué algunos de ellos muestran un rendimiento notablemente distinto. Con base en estos hallazgos, se pretenden ofrecer recomendaciones que ayuden a mejorar las estrategias comerciales.\n",
    "\n",
    "**3. Metodología**\n",
    "\n",
    "Para llevar a cabo este análisis, se siguieron los siguientes pasos:\n",
    "- **Conexión a SQL:** Se configuró la conexión entre Python y SQL Server mediante la librería *sqlalchemy*:\n"
   ]
  },
  {
   "cell_type": "code",
   "execution_count": 12,
   "metadata": {},
   "outputs": [],
   "source": [
    "server=\"----------\" \n",
    "database=\"AdventureWorks2017\"\n",
    "engine = create_engine(f\"mssql+pyodbc://{server}/{database}?driver=SQL+Server&trusted_connection=yes\")"
   ]
  },
  {
   "cell_type": "markdown",
   "metadata": {},
   "source": [
    "\n",
    "- **Extracción de Datos:** Se ejecutaron consultas SQL para obtener los siguientes datos:\n",
    "    - Id y Nombre del Territorio\n",
    "    - Total de Ventas y Cantidad de Órdenes por territorio\n",
    "    - Promedio de Venta por Orden\n",
    "    \n",
    "\n",
    "- **Análisis y Visualización:** Una vez obtenidos los datos, se realizaron los siguientes análisis:\n",
    "\n",
    "    - *Visualización:* Gráficos de barras para la comparación del total de ventas por territorio.\n",
    "    - *Detección de valores atípicos:* Se utilizaron boxplots e histogramas para la identificación de territorios con ventas fuera de lo común.\n",
    "\n",
    "**4. Resultados**\n",
    "\n",
    "**Total de Ventas por Territorio**\n",
    "\n",
    "- *Los cinco territorios que menos venden son:* Germany (Alemania), Northeast (el Noreste), France (Francia), United Kingdom (el Reino Unido) y Southeast (el Sureste).\n",
    "\n",
    "- *Por otro lado, los cinco territorios que más venden son:* Southwest (el Suroeste), Canada (Canadá), Northwest (el Noroeste), Australia (Australia) y Central (el Centro).\n",
    "\n",
    "Se puede notar una tendencia bastante clara en las ventas, donde algunos territorios están generando ingresos mucho más altos que otros.\n",
    "\n",
    "**Distribución de Ventas por Territorio**\n",
    "\n",
    "*Boxplot de Ventas por Territorio:* El boxplot muestra que no hay valores atípicos extremos, pero el bigote derecho se extiende más hacia la derecha, lo que indica que algunos territorios tienen ventas notablemente más altas que los demás. Esto sugiere que la distribución de las ventas está sesgada positivamente, donde la mayoría de los territorios se sitúan en rangos de ventas más bajos o moderados, mientras que unos pocos destacan con cifras más elevadas.\n",
    "\n",
    "*Histograma de Ventas por Territorio:* El histograma complementa el análisis del boxplot, revelando que la mayoría de los territorios tienen ventas concentradas en valores bajos o intermedios, con una cola larga hacia la derecha. Esto indica que algunos territorios están generando ventas mucho mayores en comparación con los otros.\n",
    "\n",
    "**Conclusión:** La combinación de estos gráficos sugiere que la distribución de ventas por territorio está sesgada positivamente, con un pequeño número de territorios alcanzando ventas excepcionales. Aunque no se identificaron valores atípicos claros, la presencia de territorios con ventas significativamente más altas sugiere que ciertos territorios podrían estar impulsando el rendimiento general.\n",
    "\n",
    "**Análisis Complementario**\n",
    "\n",
    "Basado en los resultados obtenidos, aquí van algunas recomendaciones:\n",
    "\n",
    "- *Replicar Estrategias Exitosas:* Es fundamental analizar los territorios donde las ventas son altas para identificar las mejores prácticas y luego replicarlas en otros lugares.\n",
    "\n",
    "- *Segmentación de Territorios:* Sería útil considerar una segmentación más detallada de los territorios, lo que permitiría implementar estrategias más personalizadas que se adapten mejor a las características de cada región.\n",
    "\n",
    "**Conclusiones Generales**\n",
    "\n",
    "Este análisis de ventas por territorio nos da una visión clara de cómo se distribuyen las ventas en los distintos territorios de la empresa. Al identificar aquellos territorios con ventas excepcionalmente altas, hemos descubierto oportunidades para optimizar y replicar estrategias comerciales que han demostrado ser exitosas.\n",
    " \n",
    "Gracias a herramientas como SQL y Python, hemos podido realizar un análisis eficiente y visualmente atractivo, lo que facilita la toma de decisiones estratégicas para mejorar el rendimiento de la empresa."
   ]
  }
 ],
 "metadata": {
  "kernelspec": {
   "display_name": "Python 3",
   "language": "python",
   "name": "python3"
  },
  "language_info": {
   "codemirror_mode": {
    "name": "ipython",
    "version": 3
   },
   "file_extension": ".py",
   "mimetype": "text/x-python",
   "name": "python",
   "nbconvert_exporter": "python",
   "pygments_lexer": "ipython3",
   "version": "3.11.4"
  },
  "orig_nbformat": 4
 },
 "nbformat": 4,
 "nbformat_minor": 2
}
